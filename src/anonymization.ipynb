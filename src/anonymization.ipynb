{
 "cells": [
  {
   "cell_type": "markdown",
   "metadata": {},
   "source": [
    "# DATA ANONYMIZATION"
   ]
  },
  {
   "cell_type": "code",
   "execution_count": 145,
   "metadata": {},
   "outputs": [],
   "source": [
    "# import required libraries\n",
    "import pandas as pd\n",
    "import numpy as np"
   ]
  },
  {
   "cell_type": "markdown",
   "metadata": {},
   "source": [
    "## Section 1: Setup"
   ]
  },
  {
   "cell_type": "code",
   "execution_count": null,
   "metadata": {},
   "outputs": [],
   "source": [
    "# Load created `students_data.csv` (fake dataset created by `fake_dataset_creation.py`)\n",
    "students = pd.read_csv(\"students_data.csv\")\n",
    "\n",
    "# Set display options to show all columns\n",
    "pd.set_option('display.max_columns', None)\n",
    "\n",
    "# Check loading is correct \n",
    "students.head()"
   ]
  },
  {
   "cell_type": "markdown",
   "metadata": {},
   "source": [
    "# Section 2: Data Anonymization"
   ]
  },
  {
   "cell_type": "code",
   "execution_count": null,
   "metadata": {},
   "outputs": [],
   "source": [
    "# Check columns\n",
    "students.columns"
   ]
  },
  {
   "cell_type": "markdown",
   "metadata": {},
   "source": [
    "### Direct Variables\n",
    "\n",
    "The columns 'Eye_color', 'Hair_color', 'First_Name', and 'Last_Name' are not considered necessary for the proposed analysis. Since they are sensitive attributes that can directly identify the student, it has been decided to use a `de-identification technique`, meaning these columns will be removed.\n",
    "\n",
    "Students will be identified by the 'ID' corresponding to the row to which they belong."
   ]
  },
  {
   "cell_type": "code",
   "execution_count": null,
   "metadata": {},
   "outputs": [],
   "source": [
    "# remove 'Eye_colors', 'Hair_color', 'First_Name' and 'Last_Name'  columns\n",
    "students.drop(['Eye_color', 'Hair_color', 'First_Name' , 'Last_Name'] , axis=1, inplace=True)\n",
    "\n",
    "# add row id as student identifier\n",
    "students[\"ID\"] = students.index\n",
    "\n",
    "# Check result\n",
    "students.head()"
   ]
  },
  {
   "cell_type": "markdown",
   "metadata": {},
   "source": [
    "The column names 'Previous_year_grades' and 'Current_year_grades' indicate that the data being processed pertains to students. An attacker could attempt to cross-reference the data to directly identify a specific student.\n",
    "\n",
    "Similarly, the objective of the analysis is to determine whether the new product improves academic performance. Therefore, to mitigate the risk of inference through data cross-referencing, the `data masking technique` will be applied by creating an anonymized 'Performance' indicator. This attribute will indicate whether there has been an improvement in grades with a 0 or 1.\n",
    "\n",
    "The word 'grades' will be avoided entirely throughout the dataset."
   ]
  },
  {
   "cell_type": "code",
   "execution_count": null,
   "metadata": {},
   "outputs": [],
   "source": [
    "# create a function that returns whether is a performance or not\n",
    "def performance(prev, actual):\n",
    "    if actual > prev:\n",
    "        return 1\n",
    "    return 0\n",
    "\n",
    "# apply function to the dataset\n",
    "students[\"Performance\"] = students.apply(lambda row: performance(row['Previous_year_grades'], row['Current_year_grades']), axis=1)\n",
    "\n",
    "# remove notes columns\n",
    "students.drop(['Previous_year_grades','Current_year_grades'] , axis=1, inplace=True)\n",
    "\n",
    "# check the result\n",
    "students.head()"
   ]
  },
  {
   "cell_type": "markdown",
   "metadata": {},
   "source": [
    "Lastly, there is the 'Age' column. To determine whether any dissociation or anonymization technique should be applied, we will analyze the data distribution."
   ]
  },
  {
   "cell_type": "code",
   "execution_count": null,
   "metadata": {},
   "outputs": [],
   "source": [
    "# obtain 'Age' min & max values\n",
    "min = students['Age'].min()\n",
    "max = students['Age'].max()\n",
    "\n",
    "print(f\"Age min value: {min} and max value: {max}\")\n",
    "\n",
    "# obtain instances per 'Age'\n",
    "students[\"Age\"].value_counts().sort_index()"
   ]
  },
  {
   "cell_type": "markdown",
   "metadata": {},
   "source": [
    "The data distribution is homogeneous; however, the age range is very narrow, spanning only from 0 to 26 years.\n",
    "\n",
    "Therefore, the 'Age' column needs to be anonymized to obscure this range, so that any attacker attempting to interpret the data will not be able to identify it as belonging to students, especially since certain age groups are more common among students.\n",
    "\n",
    "`Data perturbation` will be applied, introducing small random changes to the age values to make it more difficult to map the data to specific individuals.\n",
    "\n",
    "Subsequently, we will `generalize` the ages into broader ranges to further anonymize the data. The original 'Age' column will, of course, be removed.\n",
    "\n",
    "In this way, we ensure that even if some information is leaked, the exact age of a student remains concealed within a broader category."
   ]
  },
  {
   "cell_type": "code",
   "execution_count": null,
   "metadata": {},
   "outputs": [],
   "source": [
    "# First: Data Perturbation (adding noise)\n",
    "np.random.seed(42)  # For reproducibility\n",
    "students['Age_Perturbed'] = students['Age'] + np.random.normal(0, 1, len(students))\n",
    "\n",
    "# check the result\n",
    "students[\"Age_Perturbed\"].value_counts().sort_index()"
   ]
  },
  {
   "cell_type": "code",
   "execution_count": null,
   "metadata": {},
   "outputs": [],
   "source": [
    "# Second: Data Generalization (avoiding age ranges in column name)\n",
    "# Define the new bins and labels for generalization into two groups\n",
    "bins = [0, 17, 30]  # Adjust the upper limit based on the data range\n",
    "labels = ['Early Years', 'Later Years']\n",
    "\n",
    "# Apply the new bins and labels to create the 'Age_Range' column\n",
    "students['Age_Range'] = pd.cut(students['Age_Perturbed'], bins=bins, labels=labels, right=False)\n",
    "\n",
    "# Check the result\n",
    "print(students[\"Age_Range\"].value_counts().sort_index())"
   ]
  },
  {
   "cell_type": "code",
   "execution_count": null,
   "metadata": {},
   "outputs": [],
   "source": [
    "# remove 'Age_Perturbed','Age' columns\n",
    "students.drop(['Age_Perturbed','Age'] , axis=1, inplace=True)\n",
    "\n",
    "# Check result\n",
    "students.head()"
   ]
  },
  {
   "cell_type": "markdown",
   "metadata": {},
   "source": [
    "### Indirect Variables\n",
    "\n",
    "Regarding indirect variables, on one hand, there is data related to the 'School' (the school to which the data pertains), and on the other hand, data concerning the parents' employment status and their salaries.\n",
    "\n",
    "For variables related to the school, the 'School_Name' is directly omitted because it directly indicates that the data belongs to students. Therefore, this column will be `suppressed`.\n",
    "\n",
    "The other columns, 'School_Address' and 'School_ZipCode,' suggest an intention to retain information about the origin or geolocation of the data. Given this, only one attribute referring to geolocation will be retained. The school's address could be critical: for instance, if a school is located on a distant street and this data is combined with the identification of Early Years, an attacker could directly identify it as student data. For this reason, the `suppression` of this column will also be carried out."
   ]
  },
  {
   "cell_type": "code",
   "execution_count": null,
   "metadata": {},
   "outputs": [],
   "source": [
    "# remove 'School_Name','School_Address' columns\n",
    "students.drop(['School_Name','School_Address'] , axis=1, inplace=True)\n",
    "\n",
    "# Check result\n",
    "students.head()"
   ]
  },
  {
   "cell_type": "markdown",
   "metadata": {},
   "source": [
    "Regarding the 'School_ZipCode' column, it should be renamed to something that does not indicate that this data pertains to a zip code and it is relates to a school. It is proposed to use the new name 'Code'.\n",
    "\n",
    "Additionally, the data will be `masked` by retaining only the first 2 digits and replacing the remaining digits with * characters, while increasing the number of digits from 5 to 7. This makes it harder to link the data as a zip code."
   ]
  },
  {
   "cell_type": "code",
   "execution_count": null,
   "metadata": {},
   "outputs": [],
   "source": [
    "# Define a function to mask the zip_code \n",
    "def mask_zip_code(zc):\n",
    "  return zc[0:2]+ '*' * (len(zc))\n",
    "\n",
    "# Replace existing SSN column with masked SSN\n",
    "students['Code'] = students['School_ZipCode'].astype(str).apply(mask_zip_code)\n",
    "\n",
    "# Check result\n",
    "students.head()"
   ]
  },
  {
   "cell_type": "code",
   "execution_count": null,
   "metadata": {},
   "outputs": [],
   "source": [
    "# remove 'School_ZipCode' columns\n",
    "students.drop('School_ZipCode', axis=1, inplace=True)\n",
    "\n",
    "# Check result\n",
    "students.head()"
   ]
  },
  {
   "cell_type": "markdown",
   "metadata": {},
   "source": [
    "Lastly, it remains to analyze the data regarding the employment status of students' parents and their salaries.\n",
    "\n",
    "Regarding the 'Parents_Salary' column, generalization appears to be the most appropriate technique. The name should be different from 'Parents_Salary,' opting for a more general term such as 'Salary'.\n",
    "\n",
    "To achieve this, salary ranges will first be reviewed for each position, and these salary ranges will be generalized so that they are not directly associated with specific job positions. "
   ]
  },
  {
   "cell_type": "code",
   "execution_count": null,
   "metadata": {},
   "outputs": [],
   "source": [
    "# Check salary ranges per occupation\n",
    "# Group by 'Parents_Occupation' and calculate min and max salary\n",
    "salary_ranges = students.groupby('Parents_Occupation')['Parents_Salary'].agg(['min', 'max'])\n",
    "\n",
    "# Rename columns for clarity\n",
    "salary_ranges.columns = ['Min_Salary', 'Max_Salary']\n",
    "\n",
    "# Reset index to turn the grouped column back into a regular column\n",
    "salary_ranges = salary_ranges.reset_index()\n",
    "\n",
    "# Print the result\n",
    "print(salary_ranges)"
   ]
  },
  {
   "cell_type": "markdown",
   "metadata": {},
   "source": [
    "Generalize salaries in 3 ranges, instead of numeric values we will use 'low', 'medium' and 'high' values. "
   ]
  },
  {
   "cell_type": "code",
   "execution_count": null,
   "metadata": {},
   "outputs": [],
   "source": [
    "# Define salary ranges\n",
    "def categorize_salary(min_salary, max_salary):\n",
    "    # Handle the case where min_salary or max_salary might be NaN\n",
    "    if pd.isna(min_salary) or pd.isna(max_salary):\n",
    "        return 'Low'\n",
    "    \n",
    "    # Determine the cutoffs for the ranges\n",
    "    low_threshold = 3000\n",
    "    medium_threshold = 12000\n",
    "    \n",
    "    # Use the average salary to categorize\n",
    "    average_salary = (min_salary + max_salary) / 2\n",
    "    \n",
    "    if average_salary <= low_threshold:\n",
    "        return 'Low'\n",
    "    elif average_salary <= medium_threshold:\n",
    "        return 'Medium'\n",
    "    else:\n",
    "        return 'High'\n",
    "\n",
    "# Calculate min and max salary per occupation\n",
    "salary_ranges = students.groupby('Parents_Occupation')['Parents_Salary'].agg(['min', 'max']).reset_index()\n",
    "\n",
    "# Rename columns for clarity\n",
    "salary_ranges.columns = ['Parents_Occupation', 'Min_Salary', 'Max_Salary']\n",
    "\n",
    "# Apply categorization to the salary ranges\n",
    "salary_ranges['Salary'] = salary_ranges.apply(lambda row: categorize_salary(row['Min_Salary'], row['Max_Salary']), axis=1)\n",
    "\n",
    "# Check result\n",
    "print(salary_ranges['Salary'].unique())\n",
    "\n",
    "# Merge back with the original students DataFrame if needed\n",
    "students = students.merge(salary_ranges[['Parents_Occupation', 'Salary']], on='Parents_Occupation', how='left')\n",
    "\n",
    "# Check result\n",
    "students.head()"
   ]
  },
  {
   "cell_type": "code",
   "execution_count": null,
   "metadata": {},
   "outputs": [],
   "source": [
    "# remove 'Parents_Salary' columns\n",
    "students.drop('Parents_Salary', axis=1, inplace=True)\n",
    "\n",
    "# Check result\n",
    "students.head()"
   ]
  },
  {
   "cell_type": "markdown",
   "metadata": {},
   "source": [
    "The specific type of employment the parents have is not relevant for the proposed analysis. Therefore, a new variable indicating with a 'Y' or 'N' whether they are working or not is deemed sufficient. Similarly, it is necessary to rename the column 'Parents_occupation' to a more generic name; 'Occupacy' is proposed, so that the 'Age_Range' column can help dissociate student data, making it more general, such as data on workers."
   ]
  },
  {
   "cell_type": "code",
   "execution_count": null,
   "metadata": {},
   "outputs": [],
   "source": [
    "# create a function that returns Y or N depending of the occupacy\n",
    "def has_occupacy(occupacy):\n",
    "    if occupacy == \"Unemployed\":\n",
    "        return \"N\"\n",
    "    return \"Y\"\n",
    "\n",
    "# create new column applying the function\n",
    "students[\"Occupacy\"] = students[\"Parents_Occupation\"].apply(has_occupacy)\n",
    "\n",
    "# remove `Parents_occupation` data\n",
    "students.drop('Parents_Occupation' , axis=1, inplace=True)\n",
    "\n",
    "# validate changets\n",
    "students.head()"
   ]
  },
  {
   "cell_type": "markdown",
   "metadata": {},
   "source": [
    "By examining records, it can be seen that retaining the columns 'Occupacy' and 'Salary_Range' along with the 'Age_Range' column might provide clues about a parent-child relationship. For example, if an individual has an 'Medium' salary and is currently inactive, the 'Early Years' value could suggest that the 'Occupacy' and 'Salary_Range' data do not belong to the same dataset as 'Early Years'.\n",
    "\n",
    "To eliminate this association, it is proposed to rename and modify the 'Age_Range' column to a more general term 'Ages' and change the values 'Early Years' and 'Later Years' to more general terms such as '<17' and '17+', which could be interpreted mistakenly as years worked."
   ]
  },
  {
   "cell_type": "code",
   "execution_count": null,
   "metadata": {},
   "outputs": [],
   "source": [
    "# change Age_Range values for '<17' and '17+'\n",
    "def change_age_ranges(age_range):\n",
    "    if age_range == \"Early Years\":\n",
    "        return \"<17\"\n",
    "    return \"17+\"\n",
    "\n",
    "# create new columna 'Ages' \n",
    "students['Ages'] = students['Age_Range'].apply(change_age_ranges)\n",
    "\n",
    "# check changes\n",
    "students.head()"
   ]
  },
  {
   "cell_type": "code",
   "execution_count": null,
   "metadata": {},
   "outputs": [],
   "source": [
    "# remove `Age_Range` data\n",
    "students.drop('Age_Range' , axis=1, inplace=True)\n",
    "\n",
    "# validate changets\n",
    "students.head()"
   ]
  },
  {
   "cell_type": "markdown",
   "metadata": {},
   "source": [
    "# Section 3: Data Validation\n",
    "\n",
    "A properly anonymized dataset should prevent the following risks: singularization, linkage, and inference.\n",
    "\n",
    "To achieve this, we will ensure, through the technique of `k-anonymity`, that there are at least 2 cases for each of the value relationships."
   ]
  },
  {
   "cell_type": "code",
   "execution_count": null,
   "metadata": {},
   "outputs": [],
   "source": [
    "# Define the desired column order\n",
    "desired_order = ['ID', 'Code', 'Salary', 'Occupacy', 'Ages', 'Weight', 'Size', 'Feet_size', 'Performance']\n",
    "\n",
    "# Reorder columns\n",
    "students = students[desired_order]\n",
    "\n",
    "# order data by Performance\n",
    "students_sorted = students.sort_values(by=['Code','Performance'], ascending=False)\n",
    "\n",
    "# check k-anonimyty\n",
    "students_sorted.groupby(['Code','Performance','Ages', 'Occupacy']).size()"
   ]
  },
  {
   "cell_type": "code",
   "execution_count": 175,
   "metadata": {},
   "outputs": [],
   "source": [
    "# save final data \n",
    "students.to_csv(\"../anonymized_data.csv\", index=False)"
   ]
  }
 ],
 "metadata": {
  "kernelspec": {
   "display_name": "Python 3",
   "language": "python",
   "name": "python3"
  },
  "language_info": {
   "codemirror_mode": {
    "name": "ipython",
    "version": 3
   },
   "file_extension": ".py",
   "mimetype": "text/x-python",
   "name": "python",
   "nbconvert_exporter": "python",
   "pygments_lexer": "ipython3",
   "version": "3.11.3"
  }
 },
 "nbformat": 4,
 "nbformat_minor": 2
}
